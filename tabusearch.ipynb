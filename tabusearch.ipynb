{
 "cells": [
  {
   "cell_type": "code",
   "execution_count": 1,
   "metadata": {},
   "outputs": [],
   "source": [
    "import numpy as np\n",
    "from pprint import pprint\n",
    "import random\n",
    "import copy\n",
    "import itertools"
   ]
  },
  {
   "cell_type": "code",
   "execution_count": 2,
   "metadata": {},
   "outputs": [],
   "source": [
    "# function for generate distance matrix\n",
    "def distanceMatrix(length):\n",
    "    grid = []\n",
    "    for i in range(length):\n",
    "        grid_sub = []\n",
    "        for j in range(length):\n",
    "            grid_sub.append(0)\n",
    "        grid.append(grid_sub)\n",
    "\n",
    "    for i in range(0, length - 1):\n",
    "        for j in range(0, length - 1 - i):\n",
    "            node = int(random.randint(20, 60))\n",
    "            grid[i][i + j + 1] = node\n",
    "            grid[i + j + 1][i] = node\n",
    "    return grid\n",
    "\n",
    "# function for generate all possible route for exhaustive search\n",
    "def generateAllRoutes(length):\n",
    "    nodes = [ x for x in range(2, length + 1) ]\n",
    "\n",
    "    routes = list(map(list, itertools.permutations(nodes)))\n",
    "\n",
    "    for x in routes:\n",
    "        x.insert(0, 1)\n",
    "        x.insert(length + 1, 1)\n",
    "    return routes\n",
    "\n",
    "# function for calculate exhaustive search\n",
    "def exhautiveSearch(routes, matrix):\n",
    "    travelCosts = []\n",
    "\n",
    "    for route in routes:\n",
    "        travelCost = 0\n",
    "        for i in range(1, len(route)):\n",
    "            route1 = route[i-1]\n",
    "            route2 = route[i]\n",
    "            travelCost += matrix[route1 - 1][route2 - 1]\n",
    "        travelCosts.append(travelCost)\n",
    "\n",
    "    minCost = min(travelCosts)\n",
    "    shortest = routes[travelCosts.index(minCost)]\n",
    "    return shortest, minCost"
   ]
  },
  {
   "cell_type": "code",
   "execution_count": 3,
   "metadata": {},
   "outputs": [],
   "source": [
    "# function for calculate fitness\n",
    "def fitness(route, matrix):\n",
    "    fit = 0\n",
    "    for i in range(1, len(route)):\n",
    "        route1 = route[i-1]\n",
    "        route2 = route[i]\n",
    "        fit += matrix[route1 - 1][route2 - 1]\n",
    "    return list([route, fit])\n",
    "\n",
    "# function for generate random swap value\n",
    "# source: https://stackoverflow.com/questions/22229796/choose-at-random-from-combinations\n",
    "def random_combination(iterable, r):\n",
    "    pool = tuple(iterable)\n",
    "    n = len(pool)\n",
    "    indices = sorted(random.sample(range(n), r))\n",
    "    return list([pool[i] for i in indices])\n",
    "\n",
    "# function for generate swap list\n",
    "def swapList(route, matrix, move):\n",
    "    swap_list = []\n",
    "    swap_set = set()\n",
    "    count = 0\n",
    "    while count < move:\n",
    "        temp = random_combination(range(2, 9), 2)\n",
    "        if str(temp) not in swap_set:\n",
    "            swap_list.append(temp)\n",
    "            swap_set.add(str(temp))\n",
    "            count += 1\n",
    "\n",
    "    swap_obj = []\n",
    "    for swap in swap_list:\n",
    "        r = copy.copy(route)\n",
    "        for i, node in enumerate(r):\n",
    "            if node == swap[0]:\n",
    "                r[i] = swap[1]\n",
    "\n",
    "            if node == swap[1]:\n",
    "                r[i] = swap[0]\n",
    "        fit = fitness(r, matrix)\n",
    "        fit.insert(0, swap)\n",
    "        swap_obj.append(fit)\n",
    "    return swap_obj"
   ]
  },
  {
   "cell_type": "markdown",
   "metadata": {},
   "source": [
    "## EXHAUSTIVE SEARCH"
   ]
  },
  {
   "cell_type": "code",
   "execution_count": 4,
   "metadata": {},
   "outputs": [
    {
     "name": "stdout",
     "output_type": "stream",
     "text": [
      "Route: [1, 2, 3, 7, 5, 4, 8, 6, 9, 1]\n",
      "Cost : 253\n"
     ]
    }
   ],
   "source": [
    "total_node = 9\n",
    "\n",
    "matrix = distanceMatrix(total_node)\n",
    "\n",
    "routes = generateAllRoutes(total_node)\n",
    "shortest, cost = exhautiveSearch(routes, matrix)\n",
    "\n",
    "print('Route: %s' % (shortest))\n",
    "print('Cost : %d' % (cost))"
   ]
  },
  {
   "cell_type": "markdown",
   "metadata": {},
   "source": [
    "## TABU SEARCH "
   ]
  },
  {
   "cell_type": "code",
   "execution_count": 6,
   "metadata": {},
   "outputs": [
    {
     "name": "stdout",
     "output_type": "stream",
     "text": [
      "Route: [1, 3, 7, 5, 4, 2, 9, 6, 8, 1]\n",
      "Cost : 263\n"
     ]
    },
    {
     "data": {
      "image/png": "[encoded data removed]",
      "text/plain": [
       "<Figure size 432x288 with 1 Axes>"
      ]
     },
     "metadata": {
      "needs_background": "light"
     },
     "output_type": "display_data"
    }
   ],
   "source": [
    "iteration   = 100\n",
    "move        = 10\n",
    "aspiration  = 5\n",
    "tenure      = 3\n",
    "total_node  = 9\n",
    "\n",
    "# generate initial solution\n",
    "route = routes[random.randint(0, len(routes))]\n",
    "solution = fitness(route, matrix)\n",
    "\n",
    "# generate empty tabu list\n",
    "tabulist = []\n",
    "for i in range(total_node):\n",
    "    temp = []\n",
    "    for j in range(total_node):\n",
    "        temp.append(0)\n",
    "    tabulist.append(temp)\n",
    "\n",
    "# start iteration\n",
    "objs = []\n",
    "obj_route = []\n",
    "obj_value = 0\n",
    "max_obj = 9999999\n",
    "for n in range(iteration):\n",
    "    # reduce tabu tenure by 1 each iteration\n",
    "    for i in range(0, total_node - 1):\n",
    "        for j in range(total_node - 1 - i):\n",
    "            if tabulist[i][i + j + 1] > 0:\n",
    "                tabulist[i][i + j + 1] -= 1\n",
    "    \n",
    "    # generate 5 random swap move\n",
    "    swap_list = swapList(solution[0], matrix, move)\n",
    "\n",
    "    # penalty by frequency\n",
    "    for i, swap in enumerate(swap_list):\n",
    "        value = tabulist[swap[0][1]][swap[0][0]]\n",
    "        total = swap_list[i][2] + value\n",
    "        swap.insert(len(swap)+1, total)\n",
    "    swap_list.sort(key=lambda x: x[3])\n",
    "    \n",
    "    # evaluate move by aspiration criterion\n",
    "    x = swap_list[0][0][0]\n",
    "    y = swap_list[0][0][1]\n",
    "\n",
    "    # if tabulist empty for first swap list\n",
    "    if tabulist[x][y] == 0:\n",
    "        tabulist[x][y] = tenure\n",
    "        tabulist[y][x] += 1\n",
    "        obj_value = swap_list[0][2]\n",
    "        obj_route.append([obj_value, swap_list[0][1]])\n",
    "    # if tabulist not empty for first swap list\n",
    "    else:\n",
    "        # if objective value difference more than aspiration criterion\n",
    "        if swap_list[0][3] - obj_value > aspiration:\n",
    "            tabulist[x][y] = tenure\n",
    "            tabulist[y][x] += 1\n",
    "            obj_value = swap_list[0][2]\n",
    "            obj_route.append([obj_value, swap_list[0][1]])\n",
    "        # if objective value difference less than aspiration criterion\n",
    "        else:\n",
    "            # check for the next swap list\n",
    "            for i, swap in enumerate(swap_list):\n",
    "                if i != 0:\n",
    "                    if tabulist[swap[0][0]][swap[0][1]] == 0:\n",
    "                        tabulist[swap[0][0]][swap[0][1]] = tenure\n",
    "                        tabulist[swap[0][1]][swap[0][0]] += 1\n",
    "                        obj_value = swap[2]\n",
    "                        obj_route.append([obj_value, swap[1]])\n",
    "                        break\n",
    "                    else:\n",
    "                         if swap[3] - obj_value > aspiration:\n",
    "                            tabulist[swap[0][0]][swap[0][1]] = tenure\n",
    "                            tabulist[swap[0][1]][swap[0][0]] += 1\n",
    "                            obj_value = swap[2]\n",
    "                            obj_route.append([obj_value, swap[1]])\n",
    "                            break\n",
    "    \n",
    "    if obj_value < max_obj:\n",
    "        max_obj = obj_value\n",
    "    objs.append(max_obj)\n",
    "\n",
    "obj_route.sort(key=lambda x: x[0])\n",
    "print('Route: %s' % (obj_route[0][1]))\n",
    "print('Cost : %d' % (obj_route[0][0]))\n",
    "\n",
    "import matplotlib.pyplot as plt\n",
    "%matplotlib inline\n",
    "plt.plot(objs)\n",
    "plt.xlabel('Iteration')\n",
    "plt.ylabel('Score')\n",
    "plt.show()"
   ]
  },
  {
   "cell_type": "code",
   "execution_count": null,
   "metadata": {},
   "outputs": [],
   "source": []
  }
 ],
 "metadata": {
  "kernelspec": {
   "display_name": "Python 3",
   "language": "python",
   "name": "python3"
  },
  "language_info": {
   "codemirror_mode": {
    "name": "ipython",
    "version": 3
   },
   "file_extension": ".py",
   "mimetype": "text/x-python",
   "name": "python",
   "nbconvert_exporter": "python",
   "pygments_lexer": "ipython3",
   "version": "3.7.1"
  }
 },
 "nbformat": 4,
 "nbformat_minor": 2
}
